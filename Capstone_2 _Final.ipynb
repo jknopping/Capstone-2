{
 "cells": [
  {
   "cell_type": "markdown",
   "metadata": {},
   "source": [
    "<div style=\"text-align: right\"> Jacob Knopping </div>\n",
    "<div style=\"text-align: right\"> 12/19/19 </div>"
   ]
  },
  {
   "cell_type": "markdown",
   "metadata": {},
   "source": [
    "## _CAPSTONE 2:_\n",
    "## Comparing Volkswagen Jetta and Chevrolet Cruze Real-World Fuel Economies"
   ]
  },
  {
   "cell_type": "markdown",
   "metadata": {},
   "source": [
    "### 1.0 Introduction"
   ]
  },
  {
   "cell_type": "markdown",
   "metadata": {},
   "source": [
    "Drivers often find that their real-world miles per gallon (MPG) often does not match Environmental Protection Agency (EPA) fuel ratings [2]. There are a few factors that may explain this gap. First, the EPA doesn't conduct its own tests. Because of budget, equipment, and manpower limitations, the EPA instead establishes test protocols and allows for auto companies to test its own vehicles [2]. Secondly, the test protocols established by the EPA for combined MPG assume the average driver is on the highway 45% of the time, and in the city 55% percent of the time [2]. This may be inaccurate, driving fuel economy data one way or another.\n",
    "\n",
    "This problem begs the question: is there a better way to measure fuel economy so that two vehicles can accurately be compared to one another? In this report, we will conduct an experiment to obtain real-world fuel economy data via crowdsourcing, and compare the fuel economies of two popular fuel-efficient vehicles, the 2019 Volkswagen Jetta (EPA: 34 mpg [1]) and 2019 Chevrolet Cruze (EPA: 32 mpg [1]). The hypothesis is that the real-world fuel economy data will prove that the Volkswagen Jetta is in fact more fuel-efficient that the Chevrolet Cruze, based on the MPG key metric. In contrast, the null hypothesis in this experiment is that there is no difference in fuel-economies between these two vehicles."
   ]
  },
  {
   "cell_type": "markdown",
   "metadata": {},
   "source": [
    "### 2.0 Data"
   ]
  },
  {
   "cell_type": "markdown",
   "metadata": {},
   "source": [
    "In order to obtain data for the experiment, a method of crowdsourcing was conducted. Drivers currently leasing either 2019 vehicle were asked to report their combined monthly MPG in exchange for a chance to win a free payment. Only the first 100 drivers of each vehicle were selected, with a minimum of 500 miles driven. This process was repeated for five months (August through December) in order to obtain n=500 for both groups. Drivers were only allowed to enter once. There should be no contextual bias based on the random location and time of year.\n",
    "\n",
    "An example email is shown below:"
   ]
  },
  {
   "cell_type": "markdown",
   "metadata": {},
   "source": [
    " _Subject: Win a free month on your current lease!_\n",
    "\n",
    "  _Dear Volkswagen driver,_\n",
    "\n",
    "  _Thank you for being a valued customer of Scott Volkswagen. If you you provide fuel-economy data from your 2019 Volkswagen Jetta over the next month, you will earn a chance to win a free payment on your current lease! See the link below for details._\n",
    "\n",
    "  _Sincerely,_\n",
    "  _Scott Volkswagen_"
   ]
  },
  {
   "cell_type": "markdown",
   "metadata": {},
   "source": [
    "The link connects to a website for collecting fuel-economy data, specifically designed for this experiment."
   ]
  },
  {
   "cell_type": "code",
   "execution_count": 1,
   "metadata": {},
   "outputs": [],
   "source": [
    "#importing libraries\n",
    "import numpy as np\n",
    "import pandas as pd\n",
    "import matplotlib.pyplot as plt\n",
    "import seaborn as sns\n",
    "import scipy.stats as stats"
   ]
  },
  {
   "cell_type": "code",
   "execution_count": 2,
   "metadata": {},
   "outputs": [],
   "source": [
    "#Generating dataset\n",
    "np.random.seed(42)\n",
    "\n",
    "#storing the random data and labels\n",
    "data = []\n",
    "groups = []\n",
    "\n",
    "#Generating data for each group \n",
    "vw_jetta_epa = 33\n",
    "vw_jetta_var = 2\n",
    "vw_jetta_size = 500\n",
    "\n",
    "chev_cruze_epa = 32\n",
    "chev_cruze_var = 3\n",
    "chev_cruze_size = 500\n",
    "\n",
    "data.extend(np.random.normal(vw_jetta_epa, vw_jetta_var, vw_jetta_size))\n",
    "data.extend(np.random.normal(chev_cruze_epa, chev_cruze_var, chev_cruze_size))\n",
    "groups.extend(['VW Jetta']*vw_jetta_size)\n",
    "groups.extend(['Chevrolet Cruze']*chev_cruze_size)"
   ]
  },
  {
   "cell_type": "markdown",
   "metadata": {},
   "source": [
    "The .head() and .shape methods are used below to verify the dataframe looks correct."
   ]
  },
  {
   "cell_type": "code",
   "execution_count": 3,
   "metadata": {},
   "outputs": [
    {
     "name": "stdout",
     "output_type": "stream",
     "text": [
      "(1000, 2)\n"
     ]
    },
    {
     "data": {
      "text/html": [
       "<div>\n",
       "<style scoped>\n",
       "    .dataframe tbody tr th:only-of-type {\n",
       "        vertical-align: middle;\n",
       "    }\n",
       "\n",
       "    .dataframe tbody tr th {\n",
       "        vertical-align: top;\n",
       "    }\n",
       "\n",
       "    .dataframe thead th {\n",
       "        text-align: right;\n",
       "    }\n",
       "</style>\n",
       "<table border=\"1\" class=\"dataframe\">\n",
       "  <thead>\n",
       "    <tr style=\"text-align: right;\">\n",
       "      <th></th>\n",
       "      <th>MPG</th>\n",
       "      <th>Make/Model</th>\n",
       "    </tr>\n",
       "  </thead>\n",
       "  <tbody>\n",
       "    <tr>\n",
       "      <th>0</th>\n",
       "      <td>33.993428</td>\n",
       "      <td>VW Jetta</td>\n",
       "    </tr>\n",
       "    <tr>\n",
       "      <th>1</th>\n",
       "      <td>32.723471</td>\n",
       "      <td>VW Jetta</td>\n",
       "    </tr>\n",
       "    <tr>\n",
       "      <th>2</th>\n",
       "      <td>34.295377</td>\n",
       "      <td>VW Jetta</td>\n",
       "    </tr>\n",
       "    <tr>\n",
       "      <th>3</th>\n",
       "      <td>36.046060</td>\n",
       "      <td>VW Jetta</td>\n",
       "    </tr>\n",
       "    <tr>\n",
       "      <th>4</th>\n",
       "      <td>32.531693</td>\n",
       "      <td>VW Jetta</td>\n",
       "    </tr>\n",
       "  </tbody>\n",
       "</table>\n",
       "</div>"
      ],
      "text/plain": [
       "         MPG Make/Model\n",
       "0  33.993428   VW Jetta\n",
       "1  32.723471   VW Jetta\n",
       "2  34.295377   VW Jetta\n",
       "3  36.046060   VW Jetta\n",
       "4  32.531693   VW Jetta"
      ]
     },
     "execution_count": 3,
     "metadata": {},
     "output_type": "execute_result"
    }
   ],
   "source": [
    "df = pd.DataFrame({'MPG': data, \n",
    "                     'Make/Model' : groups})\n",
    "print(df.shape)\n",
    "df.head()"
   ]
  },
  {
   "cell_type": "markdown",
   "metadata": {},
   "source": [
    "As expected, the size of the dataframe is 1000 (n=500 for both vehicles)."
   ]
  },
  {
   "cell_type": "markdown",
   "metadata": {},
   "source": [
    "### 3.0 Analysis"
   ]
  },
  {
   "cell_type": "markdown",
   "metadata": {},
   "source": [
    "Below, the dataframe is split by vehicle type in order obtain summary statistics for each vehicle and verify sample sizes. Then, using a normal test from the SciPy library, the distribution of each dataframe is evaulated. Summary statistics obtained from the .describe() method are more rigorous when the distribution is evaluated as normal."
   ]
  },
  {
   "cell_type": "code",
   "execution_count": 4,
   "metadata": {},
   "outputs": [
    {
     "name": "stdout",
     "output_type": "stream",
     "text": [
      "              MPG\n",
      "count  500.000000\n",
      "mean    33.013676\n",
      "std      1.962506\n",
      "min     26.517465\n",
      "25%     31.599385\n",
      "50%     33.025594\n",
      "75%     34.273567\n",
      "max     40.705463\n"
     ]
    }
   ],
   "source": [
    "df_VW = df.loc[df['Make/Model'] == 'VW Jetta']\n",
    "print(df_VW.describe())"
   ]
  },
  {
   "cell_type": "markdown",
   "metadata": {},
   "source": [
    "The mean MPG for the Volkswagen Jetta is 33.01, and the count is as expected (n=500)."
   ]
  },
  {
   "cell_type": "code",
   "execution_count": 5,
   "metadata": {},
   "outputs": [
    {
     "name": "stdout",
     "output_type": "stream",
     "text": [
      "              MPG\n",
      "count  500.000000\n",
      "mean    32.095478\n",
      "std      2.933992\n",
      "min     23.909340\n",
      "25%     30.214125\n",
      "50%     32.085595\n",
      "75%     33.953727\n",
      "max     39.897146\n"
     ]
    }
   ],
   "source": [
    "df_chev = df.loc[df['Make/Model'] == 'Chevrolet Cruze']\n",
    "print(df_chev.describe())"
   ]
  },
  {
   "cell_type": "markdown",
   "metadata": {},
   "source": [
    "The mean MPG for the Chevrolet Cruze is 32.09, and the count is as expected (n=500)."
   ]
  },
  {
   "cell_type": "markdown",
   "metadata": {},
   "source": [
    "In order to determine whether or not each dataframe has a normal distribution, the MPG data will be analyzed both visually and statistically. For the visual analysis, the .distplot() method from the Seaborn library is used, while a normal test from the SciPy library is used to perform a statistical analysis. The null hypothesis is that the distribution is normal (for both the Jetta and Cruze dataframes)."
   ]
  },
  {
   "cell_type": "code",
   "execution_count": 6,
   "metadata": {},
   "outputs": [
    {
     "name": "stdout",
     "output_type": "stream",
     "text": [
      "NormaltestResult(statistic=4.223512237375456, pvalue=0.12102524501156653)\n",
      "p_value = 0.121025\n",
      "\n",
      "\n",
      "The null hypothesis cannot be rejected (fail to reject H0)\n"
     ]
    },
    {
     "data": {
      "image/png": "[encoded data removed]",
      "text/plain": [
       "<Figure size 432x288 with 1 Axes>"
      ]
     },
     "metadata": {
      "needs_background": "light"
     },
     "output_type": "display_data"
    }
   ],
   "source": [
    "#Visual test\n",
    "sns.distplot(df_VW.MPG)\n",
    "plt.title('VW Jetta MPG Distribution')\n",
    "\n",
    "#Statistical test\n",
    "print(stats.normaltest(df_VW.MPG))\n",
    "t_value, p_value = stats.normaltest(df_VW.MPG)\n",
    "alpha = .05\n",
    "print(\"p_value = {:g}\".format(p_value))\n",
    "print('\\n')\n",
    "if p_value < alpha:  # null hypothesis(H0): distribution is normal\n",
    "     print(\"The null hypothesis can be rejected (reject H0)\")\n",
    "else:\n",
    "    print(\"The null hypothesis cannot be rejected (fail to reject H0)\")"
   ]
  },
  {
   "cell_type": "markdown",
   "metadata": {},
   "source": [
    "The distribution for the VW Jetta MPG data is visually normal, which is confirmed by SciPy the normal test, which fails to reject the null hypothesis (the distribution is normal). Therefore, summary statistics, such as a mean MPG of 33.01, provide valuable insight into the data."
   ]
  },
  {
   "cell_type": "markdown",
   "metadata": {},
   "source": [
    "The same methods are used to evaluate the MPG distribution for the Chevrolet Cruze."
   ]
  },
  {
   "cell_type": "code",
   "execution_count": 7,
   "metadata": {},
   "outputs": [
    {
     "name": "stdout",
     "output_type": "stream",
     "text": [
      "NormaltestResult(statistic=0.4350466073072166, pvalue=0.8045088567056563)\n",
      "p_value = 0.804509\n",
      "\n",
      "\n",
      "The null hypothesis cannot be rejected (fail to reject H0)\n"
     ]
    },
    {
     "data": {
      "image/png": "[encoded data removed]",
      "text/plain": [
       "<Figure size 432x288 with 1 Axes>"
      ]
     },
     "metadata": {
      "needs_background": "light"
     },
     "output_type": "display_data"
    }
   ],
   "source": [
    "#Visual test\n",
    "sns.distplot(df_chev.MPG)\n",
    "plt.title('Chevrolet Cruze MPG Distribution')\n",
    "\n",
    "#Statistical test\n",
    "print(stats.normaltest(df_chev.MPG))\n",
    "t_value, p_value = stats.normaltest(df_chev.MPG)\n",
    "alpha = .05\n",
    "print(\"p_value = {:g}\".format(p_value))\n",
    "print('\\n')\n",
    "if p_value < alpha:  # null hypothesis(H0): distribution is normal\n",
    "     print(\"The null hypothesis can be rejected (reject H0)\")\n",
    "else:\n",
    "    print(\"The null hypothesis cannot be rejected (fail to reject H0)\")"
   ]
  },
  {
   "cell_type": "markdown",
   "metadata": {},
   "source": [
    "Again, summary statistics are appropriate as the distribution is visually normal. In addition, the SciPy normal test fails to reject the null hypothesis (the distribution is normal), which confirms the visual results. The distributions for both the Jetta and Cruze are normal."
   ]
  },
  {
   "cell_type": "markdown",
   "metadata": {},
   "source": [
    "Next, a violin plot, box plot, and histogram will be used to perform a side-by-side visual analysis of the data."
   ]
  },
  {
   "cell_type": "code",
   "execution_count": 8,
   "metadata": {},
   "outputs": [
    {
     "data": {
      "text/plain": [
       "Text(0.5, 1.0, 'MPG by Make/Model (2019 Models)')"
      ]
     },
     "execution_count": 8,
     "metadata": {},
     "output_type": "execute_result"
    },
    {
     "data": {
      "image/png": "[encoded data removed]",
      "text/plain": [
       "<Figure size 432x288 with 1 Axes>"
      ]
     },
     "metadata": {},
     "output_type": "display_data"
    }
   ],
   "source": [
    "#Violin plot\n",
    "sns.set_palette(palette='Set1', n_colors=2)\n",
    "sns.set_style('ticks')\n",
    "sns.violinplot(x='Make/Model', y='MPG', data=df)\n",
    "plt.title('MPG by Make/Model (2019 Models)')"
   ]
  },
  {
   "cell_type": "markdown",
   "metadata": {},
   "source": [
    "The violin plot shows the probability density for both vehicles. The probability density distribution is more compact for the Jetta, suggesting MPG ratings are generally closer to the mean. Meanwhile, the distribution range for the Cruze also appears larger. A box plot will allow for a more direct comparison of each vehicles MPG range."
   ]
  },
  {
   "cell_type": "code",
   "execution_count": 9,
   "metadata": {},
   "outputs": [
    {
     "data": {
      "text/plain": [
       "Text(0.5, 1, 'MPG Box Plot (2019 Models)')"
      ]
     },
     "execution_count": 9,
     "metadata": {},
     "output_type": "execute_result"
    },
    {
     "data": {
      "image/png": "[encoded data removed]",
      "text/plain": [
       "<Figure size 360x360 with 1 Axes>"
      ]
     },
     "metadata": {},
     "output_type": "display_data"
    }
   ],
   "source": [
    "#Box plot\n",
    "sns.catplot(x='Make/Model', y='MPG', kind='box', data=df)\n",
    "plt.title('MPG Box Plot (2019 Models)')"
   ]
  },
  {
   "cell_type": "markdown",
   "metadata": {},
   "source": [
    "The box plot confirms that the reported monthly range of MPG was greater for the Cruze than the Jetta. In addition, the difference in the mean is more clear, as the Jetta performs approximately 1 MPG greater than the Cruze."
   ]
  },
  {
   "cell_type": "code",
   "execution_count": 10,
   "metadata": {},
   "outputs": [
    {
     "data": {
      "image/png": "[encoded data removed]",
      "text/plain": [
       "<Figure size 432x288 with 1 Axes>"
      ]
     },
     "metadata": {},
     "output_type": "display_data"
    }
   ],
   "source": [
    "#Histogram\n",
    "plt.hist(df.loc[df['Make/Model'] == 'VW Jetta'].MPG, alpha=1, density=True, color='red', label='VW Jetta')\n",
    "plt.hist(df.loc[df['Make/Model'] == 'Chevrolet Cruze'].MPG, alpha=0.5, density=True, color='blue', label='Chevrolet Cruze')\n",
    "plt.legend(loc='best')\n",
    "plt.title('MPG Distribution (2019 Models)')\n",
    "plt.show()"
   ]
  },
  {
   "cell_type": "markdown",
   "metadata": {},
   "source": [
    "The histogram above shows the MPG distribution for each vehicle, and where they overlap. The distribution for the Jetta is more centered around the mean, while MPG values are more spread out for the Cruze. That said, the distributions appear similar overall. A statistical evaluation is needed to determine the significance of the visual difference. For this, a t-test is conducted below."
   ]
  },
  {
   "cell_type": "code",
   "execution_count": 11,
   "metadata": {},
   "outputs": [
    {
     "name": "stdout",
     "output_type": "stream",
     "text": [
      "Ttest_indResult(statistic=5.816566690907049, pvalue=8.08314529058007e-09)\n",
      "t_value = 5.81657\n",
      "p_value = 8.08315e-09\n",
      "The null hypothesis can be rejected (reject H0)\n"
     ]
    }
   ],
   "source": [
    "#T-test\n",
    "print(stats.ttest_ind(df.loc[df['Make/Model'] == 'VW Jetta'].MPG,\n",
    "               df.loc[df['Make/Model'] == 'Chevrolet Cruze'].MPG))\n",
    "\n",
    "t_value, p_value = (stats.ttest_ind(df.loc[df['Make/Model'] == 'VW Jetta'].MPG,\n",
    "               df.loc[df['Make/Model'] == 'Chevrolet Cruze'].MPG))\n",
    "alpha = .001\n",
    "print(\"t_value = {:g}\".format(t_value))\n",
    "print(\"p_value = {:g}\".format(p_value))\n",
    "if p_value < alpha:  # null hypothesis(H0): no difference in fuel-economies\n",
    "     print(\"The null hypothesis can be rejected (reject H0)\")\n",
    "else:\n",
    "    print(\"The null hypothesis cannot be rejected (fail to reject H0)\")\n",
    "\n"
   ]
  },
  {
   "cell_type": "markdown",
   "metadata": {},
   "source": [
    "The t-test from the SciPy library rejects the null hypothesis, that there is no difference in fuel economies as measured by MPG, based on an alpha value of .001. In other words, the difference in MPG for the Jetta and Cruze was statistically significant. This strongly suggests the hypothesis from the introduction is correct, and that the real-world fuel economy data proves the Volkswagen Jetta has a higher MPG than that of the Chevrolet Cruze."
   ]
  },
  {
   "cell_type": "markdown",
   "metadata": {},
   "source": [
    "### 4.0 Conclusion"
   ]
  },
  {
   "cell_type": "markdown",
   "metadata": {},
   "source": [
    "The mean of reported monthly MPG data was approximately 33 MPG for the Volkswagen Jetta, compared to a mean of approximately 32 MPG for the Chevrolet Cruze. Based on the statistical (SciPy t-test) data, this difference in the means is significant. In addition, the distribution for the Cruze showed more variance in MPG than the Volkswagen Jetta. This was confirmed by both the visual (boxplot, violin plot, and histogram) and statisical data (i.e. difference in means).\n",
    "\n",
    "Overall, the real-world fuel economy data (using the MPG metric) proved more rigorous, and conclusive than comparing EPA estimates."
   ]
  },
  {
   "cell_type": "markdown",
   "metadata": {},
   "source": [
    "### 5.0 References"
   ]
  },
  {
   "cell_type": "markdown",
   "metadata": {},
   "source": [
    "[1] “Compare Side-by-Side,” 2019 Chevrolet Cruze. [Online]. Available: https://www.fueleconomy.gov/feg/Find.do?action=sbs&id=40470. [Accessed: 19-Dec-2019]."
   ]
  },
  {
   "cell_type": "markdown",
   "metadata": {},
   "source": [
    "[2] “Here's Why Real-World MPG Doesn't Match EPA Ratings,” Edmunds, 12-Nov-2012. [Online]. Available: https://www.edmunds.com/fuel-economy/heres-why-real-world-mpg-doesnt-match-epa-ratings.html. [Accessed: 19-Dec-2019]."
   ]
  }
 ],
 "metadata": {
  "kernelspec": {
   "display_name": "Python 3",
   "language": "python",
   "name": "python3"
  },
  "language_info": {
   "codemirror_mode": {
    "name": "ipython",
    "version": 3
   },
   "file_extension": ".py",
   "mimetype": "text/x-python",
   "name": "python",
   "nbconvert_exporter": "python",
   "pygments_lexer": "ipython3",
   "version": "3.7.3"
  }
 },
 "nbformat": 4,
 "nbformat_minor": 2
}
